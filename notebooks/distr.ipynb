{
 "cells": [
  {
   "cell_type": "code",
   "execution_count": 5,
   "source": [
    "import numpy as np\r\n",
    "import pandas as pd\r\n",
    "import seaborn as sns\r\n",
    "import matplotlib.pyplot as plt"
   ],
   "outputs": [],
   "metadata": {}
  },
  {
   "cell_type": "code",
   "execution_count": 2,
   "source": [
    "df = pd.read_csv(r\"D:\\Documentos\\Skyrats\\SkyanalysisTools\\distribution.csv\")\r\n",
    "df[\"Variance\"].hist()"
   ],
   "outputs": [
    {
     "output_type": "execute_result",
     "data": {
      "text/plain": [
       "<AxesSubplot:>"
      ]
     },
     "metadata": {},
     "execution_count": 2
    },
    {
     "output_type": "display_data",
     "data": {
      "image/png": "[encoded data removed]",
      "text/plain": [
       "<Figure size 432x288 with 1 Axes>"
      ]
     },
     "metadata": {
      "needs_background": "light"
     }
    }
   ],
   "metadata": {}
  },
  {
   "cell_type": "code",
   "execution_count": 3,
   "source": [
    "df[\"Correlation\"].hist()"
   ],
   "outputs": [
    {
     "output_type": "execute_result",
     "data": {
      "text/plain": [
       "<AxesSubplot:>"
      ]
     },
     "metadata": {},
     "execution_count": 3
    },
    {
     "output_type": "display_data",
     "data": {
      "image/png": "[encoded data removed]",
      "text/plain": [
       "<Figure size 432x288 with 1 Axes>"
      ]
     },
     "metadata": {
      "needs_background": "light"
     }
    }
   ],
   "metadata": {}
  },
  {
   "cell_type": "code",
   "execution_count": 7,
   "source": [
    "N_points = 100000\r\n",
    "n_bins = 20\r\n",
    "\r\n",
    "# Generate a normal distribution, center at x=0 and y=5\r\n",
    "x = df[\"Variance\"]\r\n",
    "y = df[\"Correlation\"]\r\n",
    "\r\n",
    "fig, axs = plt.subplots(1, 2, sharey=True, tight_layout=True)\r\n",
    "\r\n",
    "# We can set the number of bins with the bins kwarg\r\n",
    "axs[0].hist(x, bins=n_bins)\r\n",
    "axs[1].hist(y, bins=n_bins)"
   ],
   "outputs": [
    {
     "output_type": "stream",
     "name": "stderr",
     "text": [
      "C:\\Users\\hbo20\\AppData\\Local\\Programs\\Python\\Python38\\lib\\site-packages\\numpy\\lib\\histograms.py:839: RuntimeWarning: invalid value encountered in greater_equal\n",
      "  keep = (tmp_a >= first_edge)\n",
      "C:\\Users\\hbo20\\AppData\\Local\\Programs\\Python\\Python38\\lib\\site-packages\\numpy\\lib\\histograms.py:840: RuntimeWarning: invalid value encountered in less_equal\n",
      "  keep &= (tmp_a <= last_edge)\n"
     ]
    },
    {
     "output_type": "execute_result",
     "data": {
      "text/plain": [
       "(array([1., 1., 0., 1., 3., 1., 0., 2., 0., 0., 2., 0., 0., 2., 2., 1., 1.,\n",
       "        0., 2., 5.]),\n",
       " array([-0.32996593, -0.26687302, -0.2037801 , -0.14068719, -0.07759428,\n",
       "        -0.01450136,  0.04859155,  0.11168446,  0.17477738,  0.23787029,\n",
       "         0.3009632 ,  0.36405612,  0.42714903,  0.49024194,  0.55333486,\n",
       "         0.61642777,  0.67952069,  0.7426136 ,  0.80570651,  0.86879943,\n",
       "         0.93189234]),\n",
       " <BarContainer object of 20 artists>)"
      ]
     },
     "metadata": {},
     "execution_count": 7
    },
    {
     "output_type": "display_data",
     "data": {
      "image/png": "[encoded data removed]",
      "text/plain": [
       "<Figure size 432x288 with 2 Axes>"
      ]
     },
     "metadata": {
      "needs_background": "light"
     }
    }
   ],
   "metadata": {}
  }
 ],
 "metadata": {
  "orig_nbformat": 4,
  "language_info": {
   "name": "python",
   "version": "3.8.6",
   "mimetype": "text/x-python",
   "codemirror_mode": {
    "name": "ipython",
    "version": 3
   },
   "pygments_lexer": "ipython3",
   "nbconvert_exporter": "python",
   "file_extension": ".py"
  },
  "kernelspec": {
   "name": "python3",
   "display_name": "Python 3.8.6 64-bit"
  },
  "interpreter": {
   "hash": "0773c19e5340b962ea0a3431c1f3f83c1cc5530e1855668ae1face7350624821"
  }
 },
 "nbformat": 4,
 "nbformat_minor": 2
}