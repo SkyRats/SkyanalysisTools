{
 "cells": [
  {
   "cell_type": "code",
   "execution_count": null,
   "source": [
    "#CRIAR PASTAS\n",
    "import os\n",
    "\n"
   ],
   "outputs": [],
   "metadata": {}
  },
  {
   "cell_type": "code",
   "execution_count": null,
   "source": [
    "os."
   ],
   "outputs": [],
   "metadata": {}
  },
  {
   "cell_type": "code",
   "execution_count": null,
   "source": [],
   "outputs": [],
   "metadata": {}
  },
  {
   "cell_type": "markdown",
   "source": [
    "# SkyanalysisTools\n",
    "\n",
    "### Installs\n",
    "\n",
    "```\n",
    "pip install px4tools\n",
    "pip install pyulog\n",
    "```\n",
    "\n",
    "### References\n",
    "\n",
    "```\n",
    "https://github.com/dronecrew/px4tools\n",
    "https://github.com/PX4/pyulog\n",
    "```"
   ],
   "metadata": {}
  },
  {
   "cell_type": "markdown",
   "source": [
    "# SkyanalysisTools\n",
    "\n",
    "### Installs\n",
    "\n",
    "```\n",
    "pip install px4tools\n",
    "pip install pyulog\n",
    "```\n",
    "\n",
    "### References\n",
    "https://github.com/dronecrew/px4tools"
   ],
   "metadata": {}
  },
  {
   "cell_type": "markdown",
   "source": [],
   "metadata": {}
  },
  {
   "cell_type": "markdown",
   "source": [
    "## Ulog to CSV\n",
    "~~~bash\n",
    "    usage: ulog2csv [-h] [-m MESSAGES] [-d DELIMITER] [-o DIR] file.ulg\n",
    "\n",
    "    Convert ULog to CSV\n",
    "\n",
    "    positional arguments:\n",
    "    file.ulg              ULog input file\n",
    "\n",
    "    optional arguments:\n",
    "    -h, --help            show this help message and exit\n",
    "    -m MESSAGES, --messages MESSAGES\n",
    "                            Only consider given messages. Must be a comma-\n",
    "                            separated list of names, like\n",
    "                            'sensor_combined,vehicle_gps_position'\n",
    "    -d DELIMITER, --delimiter DELIMITER\n",
    "                            Use delimiter in CSV (default is ',')\n",
    "    -o DIR, --output DIR  Output directory (default is same as input file)\n",
    "~~~"
   ],
   "metadata": {}
  },
  {
   "cell_type": "code",
   "execution_count": null,
   "source": [
    "import pandas as pd\r\n",
    "import numpy as np\r\n",
    "import matplotlib.pyplot as plt"
   ],
   "outputs": [],
   "metadata": {}
  },
  {
   "cell_type": "code",
   "execution_count": null,
   "source": [
    "sensor_mag_0 = pd.read_csv(r'D:\\Documentos\\Skyrats\\SkyanalysisTools\\logs\\csv\\LOGZUFFO_sensor_mag_0.csv')\r\n",
    "sensor_mag_0"
   ],
   "outputs": [],
   "metadata": {
    "scrolled": true
   }
  },
  {
   "cell_type": "code",
   "execution_count": null,
   "source": [
    "sensor_mag_0['x'].plot()"
   ],
   "outputs": [],
   "metadata": {
    "scrolled": true
   }
  },
  {
   "cell_type": "code",
   "execution_count": null,
   "source": [
    "np.sqrt(sensor_mag_0['x']**2 + sensor_mag_0['y']**2 + sensor_mag_0['z']**2).plot()"
   ],
   "outputs": [],
   "metadata": {}
  },
  {
   "cell_type": "code",
   "execution_count": null,
   "source": [
    "hover_thrust_estimate = pd.read_csv(r'D:\\Documentos\\Skyrats\\SkyanalysisTools\\logs\\csv\\LOGZUFFO_hover_thrust_estimate_0.csv')\r\n",
    "hover_thrust_estimate"
   ],
   "outputs": [],
   "metadata": {}
  },
  {
   "cell_type": "code",
   "execution_count": null,
   "source": [
    "hover_thrust_estimate['hover_thrust'].plot()"
   ],
   "outputs": [],
   "metadata": {}
  },
  {
   "cell_type": "code",
   "execution_count": null,
   "source": [
    "os."
   ],
   "outputs": [],
   "metadata": {}
  },
  {
   "cell_type": "markdown",
   "source": [
    "# SkyanalysisTools\n",
    "\n",
    "### Installs\n",
    "\n",
    "```\n",
    "pip install px4tools\n",
    "pip install pyulog\n",
    "```\n",
    "\n",
    "### References\n",
    "\n",
    "```\n",
    "https://github.com/dronecrew/px4tools\n",
    "https://github.com/PX4/pyulog\n",
    "```"
   ],
   "metadata": {}
  },
  {
   "cell_type": "markdown",
   "source": [],
   "metadata": {}
  },
  {
   "cell_type": "code",
   "execution_count": null,
   "source": [
    "import pandas as pd\r\n",
    "import numpy as np\r\n",
    "import matplotlib.pyplot as plt"
   ],
   "outputs": [],
   "metadata": {}
  },
  {
   "cell_type": "code",
   "execution_count": null,
   "source": [
    "sensor_mag_0['x'].plot()"
   ],
   "outputs": [],
   "metadata": {
    "scrolled": true
   }
  },
  {
   "cell_type": "code",
   "execution_count": null,
   "source": [
    "hover_thrust_estimate = pd.read_csv(r'D:\\Documentos\\Skyrats\\SkyanalysisTools\\logs\\csv\\LOGZUFFO_hover_thrust_estimate_0.csv')\r\n",
    "hover_thrust_estimate"
   ],
   "outputs": [],
   "metadata": {}
  }
 ],
 "metadata": {
  "interpreter": {
   "hash": "31f2aee4e71d21fbe5cf8b01ff0e069b9275f58929596ceb00d14d90e3e16cd6"
  },
  "kernelspec": {
   "display_name": "Python 3.6.9 64-bit",
   "name": "python3"
  },
  "language_info": {
   "name": "python",
   "version": ""
  }
 },
 "nbformat": 4,
 "nbformat_minor": 2
}