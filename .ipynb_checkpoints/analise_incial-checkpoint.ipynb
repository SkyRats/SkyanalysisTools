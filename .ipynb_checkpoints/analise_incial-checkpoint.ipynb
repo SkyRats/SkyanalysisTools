{
 "cells": [
  {
   "cell_type": "markdown",
   "metadata": {},
   "source": [
    "# SkyanalysisTools\n",
    "\n",
    "### Installs\n",
    "\n",
    "```\n",
    "pip install px4tools\n",
    "pip install pyulog\n",
    "```\n",
    "\n",
    "### References\n",
    "https://github.com/dronecrew/px4tools\n",
    "https://github.com/PX4/pyulog"
   ]
  },
  {
   "cell_type": "markdown",
   "metadata": {},
   "source": []
  },
  {
   "cell_type": "markdown",
   "metadata": {},
   "source": [
    "# SkyanalysisTools\n",
    "\n",
    "### Installs\n",
    "\n",
    "```\n",
    "pip install px4tools\n",
    "pip install pyulog\n",
    "```\n",
    "\n",
    "### References\n",
    "https://github.com/dronecrew/px4tools"
   ]
  },
  {
   "cell_type": "markdown",
   "metadata": {},
   "source": []
  },
  {
   "cell_type": "markdown",
   "metadata": {},
   "source": [
    "## Ulog to CSV\n",
    "~~~bash\n",
    "    usage: ulog2csv [-h] [-m MESSAGES] [-d DELIMITER] [-o DIR] file.ulg\n",
    "\n",
    "    Convert ULog to CSV\n",
    "\n",
    "    positional arguments:\n",
    "    file.ulg              ULog input file\n",
    "\n",
    "    optional arguments:\n",
    "    -h, --help            show this help message and exit\n",
    "    -m MESSAGES, --messages MESSAGES\n",
    "                            Only consider given messages. Must be a comma-\n",
    "                            separated list of names, like\n",
    "                            'sensor_combined,vehicle_gps_position'\n",
    "    -d DELIMITER, --delimiter DELIMITER\n",
    "                            Use delimiter in CSV (default is ',')\n",
    "    -o DIR, --output DIR  Output directory (default is same as input file)\n",
    "~~~"
   ]
  },
  {
   "cell_type": "code",
   "execution_count": 1,
   "metadata": {},
   "outputs": [],
   "source": [
    "import pandas as pd\n",
    "import numpy as np\n",
    "import matplotlib.pyplot as plt"
   ]
  },
  {
   "cell_type": "code",
   "execution_count": 2,
   "metadata": {
    "scrolled": true
   },
   "outputs": [
    {
     "data": {
      "text/html": [
       "<div>\n",
       "<style scoped>\n",
       "    .dataframe tbody tr th:only-of-type {\n",
       "        vertical-align: middle;\n",
       "    }\n",
       "\n",
       "    .dataframe tbody tr th {\n",
       "        vertical-align: top;\n",
       "    }\n",
       "\n",
       "    .dataframe thead th {\n",
       "        text-align: right;\n",
       "    }\n",
       "</style>\n",
       "<table border=\"1\" class=\"dataframe\">\n",
       "  <thead>\n",
       "    <tr style=\"text-align: right;\">\n",
       "      <th></th>\n",
       "      <th>timestamp</th>\n",
       "      <th>timestamp_sample</th>\n",
       "      <th>device_id</th>\n",
       "      <th>x</th>\n",
       "      <th>y</th>\n",
       "      <th>z</th>\n",
       "      <th>temperature</th>\n",
       "      <th>error_count</th>\n",
       "      <th>is_external</th>\n",
       "    </tr>\n",
       "  </thead>\n",
       "  <tbody>\n",
       "    <tr>\n",
       "      <th>0</th>\n",
       "      <td>1333844371</td>\n",
       "      <td>1333844346</td>\n",
       "      <td>327690</td>\n",
       "      <td>0.364659</td>\n",
       "      <td>0.051593</td>\n",
       "      <td>-0.366121</td>\n",
       "      <td>29.875</td>\n",
       "      <td>0</td>\n",
       "      <td>0</td>\n",
       "    </tr>\n",
       "    <tr>\n",
       "      <th>1</th>\n",
       "      <td>1334850565</td>\n",
       "      <td>1334850539</td>\n",
       "      <td>327690</td>\n",
       "      <td>0.364952</td>\n",
       "      <td>0.042970</td>\n",
       "      <td>-0.369629</td>\n",
       "      <td>29.875</td>\n",
       "      <td>0</td>\n",
       "      <td>0</td>\n",
       "    </tr>\n",
       "    <tr>\n",
       "      <th>2</th>\n",
       "      <td>1335856773</td>\n",
       "      <td>1335856747</td>\n",
       "      <td>327690</td>\n",
       "      <td>0.269512</td>\n",
       "      <td>0.063432</td>\n",
       "      <td>-0.737942</td>\n",
       "      <td>29.875</td>\n",
       "      <td>0</td>\n",
       "      <td>0</td>\n",
       "    </tr>\n",
       "    <tr>\n",
       "      <th>3</th>\n",
       "      <td>1336850245</td>\n",
       "      <td>1336850217</td>\n",
       "      <td>327690</td>\n",
       "      <td>-0.005115</td>\n",
       "      <td>-0.095732</td>\n",
       "      <td>-0.204619</td>\n",
       "      <td>29.875</td>\n",
       "      <td>0</td>\n",
       "      <td>0</td>\n",
       "    </tr>\n",
       "    <tr>\n",
       "      <th>4</th>\n",
       "      <td>1337856525</td>\n",
       "      <td>1337856499</td>\n",
       "      <td>327690</td>\n",
       "      <td>-0.115902</td>\n",
       "      <td>-0.119994</td>\n",
       "      <td>-0.200234</td>\n",
       "      <td>29.875</td>\n",
       "      <td>0</td>\n",
       "      <td>0</td>\n",
       "    </tr>\n",
       "    <tr>\n",
       "      <th>...</th>\n",
       "      <td>...</td>\n",
       "      <td>...</td>\n",
       "      <td>...</td>\n",
       "      <td>...</td>\n",
       "      <td>...</td>\n",
       "      <td>...</td>\n",
       "      <td>...</td>\n",
       "      <td>...</td>\n",
       "      <td>...</td>\n",
       "    </tr>\n",
       "    <tr>\n",
       "      <th>101</th>\n",
       "      <td>1434847927</td>\n",
       "      <td>1434847902</td>\n",
       "      <td>327690</td>\n",
       "      <td>0.039754</td>\n",
       "      <td>-0.097048</td>\n",
       "      <td>-0.205495</td>\n",
       "      <td>27.500</td>\n",
       "      <td>0</td>\n",
       "      <td>0</td>\n",
       "    </tr>\n",
       "    <tr>\n",
       "      <th>102</th>\n",
       "      <td>1435854106</td>\n",
       "      <td>1435854081</td>\n",
       "      <td>327690</td>\n",
       "      <td>0.320374</td>\n",
       "      <td>0.009062</td>\n",
       "      <td>-0.334259</td>\n",
       "      <td>27.500</td>\n",
       "      <td>0</td>\n",
       "      <td>0</td>\n",
       "    </tr>\n",
       "    <tr>\n",
       "      <th>103</th>\n",
       "      <td>1436860261</td>\n",
       "      <td>1436860236</td>\n",
       "      <td>327690</td>\n",
       "      <td>0.343174</td>\n",
       "      <td>0.072932</td>\n",
       "      <td>-0.581555</td>\n",
       "      <td>27.500</td>\n",
       "      <td>0</td>\n",
       "      <td>0</td>\n",
       "    </tr>\n",
       "    <tr>\n",
       "      <th>104</th>\n",
       "      <td>1437853963</td>\n",
       "      <td>1437853938</td>\n",
       "      <td>327690</td>\n",
       "      <td>0.376206</td>\n",
       "      <td>0.039901</td>\n",
       "      <td>-0.360713</td>\n",
       "      <td>27.375</td>\n",
       "      <td>0</td>\n",
       "      <td>0</td>\n",
       "    </tr>\n",
       "    <tr>\n",
       "      <th>105</th>\n",
       "      <td>1438847498</td>\n",
       "      <td>1438847470</td>\n",
       "      <td>327690</td>\n",
       "      <td>0.429407</td>\n",
       "      <td>0.068109</td>\n",
       "      <td>-0.394914</td>\n",
       "      <td>27.625</td>\n",
       "      <td>0</td>\n",
       "      <td>0</td>\n",
       "    </tr>\n",
       "  </tbody>\n",
       "</table>\n",
       "<p>106 rows × 9 columns</p>\n",
       "</div>"
      ],
      "text/plain": [
       "      timestamp  timestamp_sample  device_id         x         y         z  \\\n",
       "0    1333844371        1333844346     327690  0.364659  0.051593 -0.366121   \n",
       "1    1334850565        1334850539     327690  0.364952  0.042970 -0.369629   \n",
       "2    1335856773        1335856747     327690  0.269512  0.063432 -0.737942   \n",
       "3    1336850245        1336850217     327690 -0.005115 -0.095732 -0.204619   \n",
       "4    1337856525        1337856499     327690 -0.115902 -0.119994 -0.200234   \n",
       "..          ...               ...        ...       ...       ...       ...   \n",
       "101  1434847927        1434847902     327690  0.039754 -0.097048 -0.205495   \n",
       "102  1435854106        1435854081     327690  0.320374  0.009062 -0.334259   \n",
       "103  1436860261        1436860236     327690  0.343174  0.072932 -0.581555   \n",
       "104  1437853963        1437853938     327690  0.376206  0.039901 -0.360713   \n",
       "105  1438847498        1438847470     327690  0.429407  0.068109 -0.394914   \n",
       "\n",
       "     temperature  error_count  is_external  \n",
       "0         29.875            0            0  \n",
       "1         29.875            0            0  \n",
       "2         29.875            0            0  \n",
       "3         29.875            0            0  \n",
       "4         29.875            0            0  \n",
       "..           ...          ...          ...  \n",
       "101       27.500            0            0  \n",
       "102       27.500            0            0  \n",
       "103       27.500            0            0  \n",
       "104       27.375            0            0  \n",
       "105       27.625            0            0  \n",
       "\n",
       "[106 rows x 9 columns]"
      ]
     },
     "execution_count": 2,
     "metadata": {},
     "output_type": "execute_result"
    }
   ],
   "source": [
    "sensor_mag_0 = pd.read_csv(r'D:\\Documentos\\Skyrats\\SkyanalysisTools\\logs\\csv\\LOGZUFFO_sensor_mag_0.csv')\n",
    "sensor_mag_0"
   ]
  },
  {
   "cell_type": "code",
   "execution_count": 3,
   "metadata": {
    "scrolled": true
   },
   "outputs": [
    {
     "data": {
      "text/plain": [
       "<AxesSubplot:>"
      ]
     },
     "execution_count": 3,
     "metadata": {},
     "output_type": "execute_result"
    },
    {
     "data": {
      "image/png": "[encoded data removed]",
      "text/plain": [
       "<Figure size 432x288 with 1 Axes>"
      ]
     },
     "metadata": {
      "needs_background": "light"
     },
     "output_type": "display_data"
    }
   ],
   "source": [
    "sensor_mag_0['x'].plot()"
   ]
  },
  {
   "cell_type": "code",
   "execution_count": 5,
   "metadata": {},
   "outputs": [
    {
     "data": {
      "text/plain": [
       "<AxesSubplot:>"
      ]
     },
     "execution_count": 5,
     "metadata": {},
     "output_type": "execute_result"
    },
    {
     "data": {
      "image/png": "[encoded data removed]",
      "text/plain": [
       "<Figure size 432x288 with 1 Axes>"
      ]
     },
     "metadata": {
      "needs_background": "light"
     },
     "output_type": "display_data"
    }
   ],
   "source": [
    "np.sqrt(sensor_mag_0['x']**2 + sensor_mag_0['y']**2 + sensor_mag_0['z']**2).plot()"
   ]
  }
 ],
 "metadata": {
  "interpreter": {
   "hash": "0773c19e5340b962ea0a3431c1f3f83c1cc5530e1855668ae1face7350624821"
  },
  "kernelspec": {
   "display_name": "Python 3",
   "language": "python",
   "name": "python3"
  },
  "language_info": {
   "codemirror_mode": {
    "name": "ipython",
    "version": 3
   },
   "file_extension": ".py",
   "mimetype": "text/x-python",
   "name": "python",
   "nbconvert_exporter": "python",
   "pygments_lexer": "ipython3",
   "version": "3.8.6"
  }
 },
 "nbformat": 4,
 "nbformat_minor": 2
}
