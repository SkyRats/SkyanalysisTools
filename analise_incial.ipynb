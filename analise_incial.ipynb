{
 "cells": [
  {
   "cell_type": "markdown",
   "source": [],
   "metadata": {}
  },
  {
   "cell_type": "markdown",
   "source": [
    "# SkyanalysisTools\n",
    "\n",
    "### Installs\n",
    "pip install px4tools\n",
    "pip install pyulog\n",
    "\n",
    "### References\n",
    "https://github.com/dronecrew/px4tools"
   ],
   "metadata": {}
  },
  {
   "cell_type": "markdown",
   "source": [
    "## Ulog to CSV\n",
    "´´´bash\n",
    "    usage: ulog2csv [-h] [-m MESSAGES] [-d DELIMITER] [-o DIR] file.ulg\n",
    "\n",
    "    Convert ULog to CSV\n",
    "\n",
    "    positional arguments:\n",
    "    file.ulg              ULog input file\n",
    "\n",
    "    optional arguments:\n",
    "    -h, --help            show this help message and exit\n",
    "    -m MESSAGES, --messages MESSAGES\n",
    "                            Only consider given messages. Must be a comma-\n",
    "                            separated list of names, like\n",
    "                            'sensor_combined,vehicle_gps_position'\n",
    "    -d DELIMITER, --delimiter DELIMITER\n",
    "                            Use delimiter in CSV (default is ',')\n",
    "    -o DIR, --output DIR  Output directory (default is same as input file)\n",
    "´´´"
   ],
   "metadata": {}
  },
  {
   "cell_type": "code",
   "execution_count": null,
   "source": [],
   "outputs": [],
   "metadata": {}
  }
 ],
 "metadata": {
  "orig_nbformat": 4,
  "language_info": {
   "name": "plaintext"
  }
 },
 "nbformat": 4,
 "nbformat_minor": 2
}